{
 "cells": [
  {
   "cell_type": "markdown",
   "id": "7f87bd57-1d31-48f9-89d0-56632cd8bce2",
   "metadata": {},
   "source": [
    "# Заметка\n",
    "📘 Теория как для своих:\n",
    "\n",
    "❓Что такое TensorFlow вообще?\n",
    "Это такая библиотека от Google, чтобы строить и тренировать нейросети. Она работает быстро, использует GPU и умеет:\n",
    "\n",
    "1.делать математику с тензорами (массивы чисел),\n",
    "2.обучать модели,\n",
    "3.строить нейросети (даже сложные),\n",
    "4.запускать на сервере, телефоне или браузере.\n",
    "Представь: ты строишь сетку → кормишь её данными → она учится → начинает делать предсказания (например, \"на фотке кошка или собака?\").\n",
    "\n",
    "🧠 А что такое тензор?\n",
    "Тензор — это просто массив чисел.\n",
    "Типа:\n",
    "\n",
    "1.число → tf.constant(5) — скаляр\n",
    "2.список → [1, 2, 3] — вектор (1D)\n",
    "3.таблица → [[1, 2], [3, 4]] — матрица (2D)\n",
    "4.куча картинок → 4D массив (тип batch, height, width, channels)\n",
    "TensorFlow = работа с этими тензорами, обновление весов, градиенты, обучение. Всё вокруг этого."
   ]
  },
  {
   "cell_type": "code",
   "execution_count": 4,
   "id": "b5baed83-ab26-405e-bd7b-46b8e920d737",
   "metadata": {},
   "outputs": [
    {
     "name": "stdout",
     "output_type": "stream",
     "text": [
      "186.42s - pydevd: Sending message related to process being replaced timed-out after 5 seconds\n",
      "Requirement already satisfied: tensorflow in /opt/anaconda3/lib/python3.12/site-packages (2.19.0)\n",
      "Requirement already satisfied: absl-py>=1.0.0 in /opt/anaconda3/lib/python3.12/site-packages (from tensorflow) (2.2.2)\n",
      "Requirement already satisfied: astunparse>=1.6.0 in /opt/anaconda3/lib/python3.12/site-packages (from tensorflow) (1.6.3)\n",
      "Requirement already satisfied: flatbuffers>=24.3.25 in /opt/anaconda3/lib/python3.12/site-packages (from tensorflow) (25.2.10)\n",
      "Requirement already satisfied: gast!=0.5.0,!=0.5.1,!=0.5.2,>=0.2.1 in /opt/anaconda3/lib/python3.12/site-packages (from tensorflow) (0.6.0)\n",
      "Requirement already satisfied: google-pasta>=0.1.1 in /opt/anaconda3/lib/python3.12/site-packages (from tensorflow) (0.2.0)\n",
      "Requirement already satisfied: libclang>=13.0.0 in /opt/anaconda3/lib/python3.12/site-packages (from tensorflow) (18.1.1)\n",
      "Requirement already satisfied: opt-einsum>=2.3.2 in /opt/anaconda3/lib/python3.12/site-packages (from tensorflow) (3.4.0)\n",
      "Requirement already satisfied: packaging in /opt/anaconda3/lib/python3.12/site-packages (from tensorflow) (24.1)\n",
      "Requirement already satisfied: protobuf!=4.21.0,!=4.21.1,!=4.21.2,!=4.21.3,!=4.21.4,!=4.21.5,<6.0.0dev,>=3.20.3 in /opt/anaconda3/lib/python3.12/site-packages (from tensorflow) (4.25.3)\n",
      "Requirement already satisfied: requests<3,>=2.21.0 in /opt/anaconda3/lib/python3.12/site-packages (from tensorflow) (2.32.3)\n",
      "Requirement already satisfied: setuptools in /opt/anaconda3/lib/python3.12/site-packages (from tensorflow) (75.1.0)\n",
      "Requirement already satisfied: six>=1.12.0 in /opt/anaconda3/lib/python3.12/site-packages (from tensorflow) (1.16.0)\n",
      "Requirement already satisfied: termcolor>=1.1.0 in /opt/anaconda3/lib/python3.12/site-packages (from tensorflow) (3.1.0)\n",
      "Requirement already satisfied: typing-extensions>=3.6.6 in /opt/anaconda3/lib/python3.12/site-packages (from tensorflow) (4.11.0)\n",
      "Requirement already satisfied: wrapt>=1.11.0 in /opt/anaconda3/lib/python3.12/site-packages (from tensorflow) (1.14.1)\n",
      "Requirement already satisfied: grpcio<2.0,>=1.24.3 in /opt/anaconda3/lib/python3.12/site-packages (from tensorflow) (1.71.0)\n",
      "Requirement already satisfied: tensorboard~=2.19.0 in /opt/anaconda3/lib/python3.12/site-packages (from tensorflow) (2.19.0)\n",
      "Requirement already satisfied: keras>=3.5.0 in /opt/anaconda3/lib/python3.12/site-packages (from tensorflow) (3.9.2)\n",
      "Requirement already satisfied: numpy<2.2.0,>=1.26.0 in /opt/anaconda3/lib/python3.12/site-packages (from tensorflow) (1.26.4)\n",
      "Requirement already satisfied: h5py>=3.11.0 in /opt/anaconda3/lib/python3.12/site-packages (from tensorflow) (3.11.0)\n",
      "Requirement already satisfied: ml-dtypes<1.0.0,>=0.5.1 in /opt/anaconda3/lib/python3.12/site-packages (from tensorflow) (0.5.1)\n",
      "Requirement already satisfied: wheel<1.0,>=0.23.0 in /opt/anaconda3/lib/python3.12/site-packages (from astunparse>=1.6.0->tensorflow) (0.44.0)\n",
      "Requirement already satisfied: rich in /opt/anaconda3/lib/python3.12/site-packages (from keras>=3.5.0->tensorflow) (13.7.1)\n",
      "Requirement already satisfied: namex in /opt/anaconda3/lib/python3.12/site-packages (from keras>=3.5.0->tensorflow) (0.0.9)\n",
      "Requirement already satisfied: optree in /opt/anaconda3/lib/python3.12/site-packages (from keras>=3.5.0->tensorflow) (0.15.0)\n",
      "Requirement already satisfied: charset-normalizer<4,>=2 in /opt/anaconda3/lib/python3.12/site-packages (from requests<3,>=2.21.0->tensorflow) (3.3.2)\n",
      "Requirement already satisfied: idna<4,>=2.5 in /opt/anaconda3/lib/python3.12/site-packages (from requests<3,>=2.21.0->tensorflow) (3.7)\n",
      "Requirement already satisfied: urllib3<3,>=1.21.1 in /opt/anaconda3/lib/python3.12/site-packages (from requests<3,>=2.21.0->tensorflow) (2.2.3)\n",
      "Requirement already satisfied: certifi>=2017.4.17 in /opt/anaconda3/lib/python3.12/site-packages (from requests<3,>=2.21.0->tensorflow) (2025.1.31)\n",
      "Requirement already satisfied: markdown>=2.6.8 in /opt/anaconda3/lib/python3.12/site-packages (from tensorboard~=2.19.0->tensorflow) (3.4.1)\n",
      "Requirement already satisfied: tensorboard-data-server<0.8.0,>=0.7.0 in /opt/anaconda3/lib/python3.12/site-packages (from tensorboard~=2.19.0->tensorflow) (0.7.2)\n",
      "Requirement already satisfied: werkzeug>=1.0.1 in /opt/anaconda3/lib/python3.12/site-packages (from tensorboard~=2.19.0->tensorflow) (3.0.3)\n",
      "Requirement already satisfied: MarkupSafe>=2.1.1 in /opt/anaconda3/lib/python3.12/site-packages (from werkzeug>=1.0.1->tensorboard~=2.19.0->tensorflow) (2.1.3)\n",
      "Requirement already satisfied: markdown-it-py>=2.2.0 in /opt/anaconda3/lib/python3.12/site-packages (from rich->keras>=3.5.0->tensorflow) (2.2.0)\n",
      "Requirement already satisfied: pygments<3.0.0,>=2.13.0 in /opt/anaconda3/lib/python3.12/site-packages (from rich->keras>=3.5.0->tensorflow) (2.15.1)\n",
      "Requirement already satisfied: mdurl~=0.1 in /opt/anaconda3/lib/python3.12/site-packages (from markdown-it-py>=2.2.0->rich->keras>=3.5.0->tensorflow) (0.1.0)\n"
     ]
    }
   ],
   "source": [
    "!pip install tensorflow"
   ]
  },
  {
   "cell_type": "code",
   "execution_count": 170,
   "id": "f3c1c1a4-4675-4add-bdf7-788a22184fe3",
   "metadata": {},
   "outputs": [
    {
     "name": "stdout",
     "output_type": "stream",
     "text": [
      "2.19.0\n"
     ]
    }
   ],
   "source": [
    "import tensorflow as tf\n",
    "import numpy as np\n",
    "from tensorflow.keras.preprocessing.text import Tokenizer\n",
    "from tensorflow.keras.preprocessing.sequence import pad_sequences\n",
    "print(tf.__version__)\n",
    "import matplotlib.pyplot as plt\n",
    "from sklearn.datasets import load_breast_cancer\n",
    "from sklearn.model_selection import train_test_split\n",
    "from sklearn.preprocessing import StandardScaler\n",
    "import pandas as pd"
   ]
  },
  {
   "cell_type": "code",
   "execution_count": 4,
   "id": "f2eaf6a0-cd69-4e5f-a33b-60e67a12ce6e",
   "metadata": {},
   "outputs": [
    {
     "name": "stdout",
     "output_type": "stream",
     "text": [
      "x:\n",
      " [[1 2]\n",
      " [3 4]]\n",
      "y:\n",
      " [[5 6]\n",
      " [7 8]]\n",
      "z = x + y:\n",
      "  [[ 6  8]\n",
      " [10 12]]\n"
     ]
    }
   ],
   "source": [
    "x = tf.constant([[1,2],[3,4]]) #constant создает неизменяемый тензор то есть массив чисел(коробку)\n",
    "y = tf.constant([[5,6],[7,8]])\n",
    "\n",
    "z = tf.add(x,y) # add складывает значения\n",
    "\n",
    "print(\"x:\\n\",x.numpy())# numpy используется чтобы результат был как нумпай массив чтобы более понятно было\n",
    "print(\"y:\\n\",y.numpy())\n",
    "print(\"z = x + y:\\n \",z.numpy())"
   ]
  },
  {
   "cell_type": "code",
   "execution_count": 6,
   "id": "87dbfe0f-3cc4-47f2-8d1e-c7b8f2f2c0a0",
   "metadata": {},
   "outputs": [
    {
     "name": "stdout",
     "output_type": "stream",
     "text": [
      "z = x*y:\n",
      " [[ 7 16]\n",
      " [27 40]\n",
      " [55 72]]\n",
      "a = y-a:\n",
      " [[6 6]\n",
      " [6 6]\n",
      " [6 6]]\n"
     ]
    }
   ],
   "source": [
    "x1 = tf.constant([[1,2],[3,4],[5,6]])\n",
    "y1 = tf.constant([[7,8],[9,10],[11,12]])\n",
    "\n",
    "z1 = tf.multiply(x1,y1) #multuply это умножение и subtract вычитание \n",
    "a1 = tf.subtract(y1,x1)\n",
    "\n",
    "print(\"z = x*y:\\n\",z1.numpy())\n",
    "print(\"a = y-a:\\n\",a1.numpy())"
   ]
  },
  {
   "cell_type": "markdown",
   "id": "bf1e5440-8caa-4b5a-9551-fafcb1cd8e61",
   "metadata": {},
   "source": [
    "# Заметка \n",
    "📘 Теория: Что такое tf.Variable\n",
    "\n",
    "tf.Variable — это тензор, который можно менять.\n",
    "Он нужен для весов и смещений в нейросетке.\n",
    "Когда модель учится, она обновляет переменные, а не константы."
   ]
  },
  {
   "cell_type": "code",
   "execution_count": 9,
   "id": "fa39df87-61ae-4fef-bde6-25fb88f7add2",
   "metadata": {},
   "outputs": [
    {
     "name": "stdout",
     "output_type": "stream",
     "text": [
      "Без изменений:\n",
      " [[1.]\n",
      " [2.]\n",
      " [3.]]\n",
      "Изменения:\n",
      " [[20.]\n",
      " [30.]\n",
      " [40.]]\n"
     ]
    }
   ],
   "source": [
    "v = tf.Variable([[1.0],[2.0],[3.0]]) # Veriable создает изменяем тензор то есть массив чисел(коробку) которую можно изменить\n",
    "print(\"Без изменений:\\n\",v.numpy())\n",
    "v.assign([[20.0],[30.0],[40.0]]) # assign можно изменять тензор и давать новые значения\n",
    "print(\"Изменения:\\n\",v.numpy())"
   ]
  },
  {
   "cell_type": "markdown",
   "id": "658b4810-4ff8-45e1-b4d5-2bd1488d3dea",
   "metadata": {},
   "source": [
    "# Заметка\n",
    " Сейчас ты своими глазами увидишь основу обучения нейросетей — то, как TensorFlow сам обновляет переменную, чтобы уменьшить ошибку. Это и есть 🔥градиентный спуск.\n",
    "\n",
    "📌 Цель:\n",
    "\n",
    "Научить переменную x приближаться к минимуму функции\n",
    "\n",
    "Пример:\n",
    "📉 y = x²\n",
    "Минимум у неё при x = 0, ведь 0² = 0 — меньше некуда."
   ]
  },
  {
   "cell_type": "code",
   "execution_count": 12,
   "id": "81db1e95-5775-4ff6-8c46-edf3b56c1e71",
   "metadata": {},
   "outputs": [
    {
     "name": "stdout",
     "output_type": "stream",
     "text": [
      "Шаг 1: x = 4.0000, y = 25.0000, grad = 10.0000\n",
      "Шаг 2: x = 3.2000, y = 16.0000, grad = 8.0000\n",
      "Шаг 3: x = 2.5600, y = 10.2400, grad = 6.4000\n",
      "Шаг 4: x = 2.0480, y = 6.5536, grad = 5.1200\n",
      "Шаг 5: x = 1.6384, y = 4.1943, grad = 4.0960\n",
      "Шаг 6: x = 1.3107, y = 2.6844, grad = 3.2768\n",
      "Шаг 7: x = 1.0486, y = 1.7180, grad = 2.6214\n",
      "Шаг 8: x = 0.8389, y = 1.0995, grad = 2.0972\n",
      "Шаг 9: x = 0.6711, y = 0.7037, grad = 1.6777\n",
      "Шаг 10: x = 0.5369, y = 0.4504, grad = 1.3422\n",
      "Шаг 11: x = 0.4295, y = 0.2882, grad = 1.0737\n",
      "Шаг 12: x = 0.3436, y = 0.1845, grad = 0.8590\n",
      "Шаг 13: x = 0.2749, y = 0.1181, grad = 0.6872\n",
      "Шаг 14: x = 0.2199, y = 0.0756, grad = 0.5498\n",
      "Шаг 15: x = 0.1759, y = 0.0484, grad = 0.4398\n",
      "Шаг 16: x = 0.1407, y = 0.0309, grad = 0.3518\n",
      "Шаг 17: x = 0.1126, y = 0.0198, grad = 0.2815\n",
      "Шаг 18: x = 0.0901, y = 0.0127, grad = 0.2252\n",
      "Шаг 19: x = 0.0721, y = 0.0081, grad = 0.1801\n",
      "Шаг 20: x = 0.0576, y = 0.0052, grad = 0.1441\n"
     ]
    }
   ],
   "source": [
    "x = tf.Variable(5.0)           # переменная, которую учим\n",
    "learning_rate = 0.1            # шаг обучения\n",
    "\n",
    "for step in range(20):\n",
    "    with tf.GradientTape() as tape:\n",
    "        tape.watch(x)          # показываем что tape следил за x\n",
    "        y = x ** 2             # внутри tape, чтобы считать градиент\n",
    "    grad = tape.gradient(y, x)  # считаем производную y по x\n",
    "    x.assign_sub(learning_rate * grad)  # двигаем x\n",
    "    print(f\"Шаг {step+1}: x = {x.numpy():.4f}, y = {y.numpy():.4f}, grad = {grad.numpy():.4f}\")"
   ]
  },
  {
   "cell_type": "code",
   "execution_count": 14,
   "id": "1ef0df33-ada2-4828-bb79-b30ca4183e87",
   "metadata": {},
   "outputs": [
    {
     "name": "stderr",
     "output_type": "stream",
     "text": [
      "/opt/anaconda3/lib/python3.12/site-packages/keras/src/layers/core/dense.py:87: UserWarning: Do not pass an `input_shape`/`input_dim` argument to a layer. When using Sequential models, prefer using an `Input(shape)` object as the first layer in the model instead.\n",
      "  super().__init__(activity_regularizer=activity_regularizer, **kwargs)\n"
     ]
    },
    {
     "name": "stdout",
     "output_type": "stream",
     "text": [
      "\u001b[1m1/1\u001b[0m \u001b[32m━━━━━━━━━━━━━━━━━━━━\u001b[0m\u001b[37m\u001b[0m \u001b[1m0s\u001b[0m 18ms/step\n",
      "Предсказание для x = 10: [[22.803507]]\n",
      "Вес (w): [[1.9785235]]\n",
      "Смещение (b): [-0.93877524]\n"
     ]
    }
   ],
   "source": [
    "# 1. Данные\n",
    "x = np.array([0.0, 1.0, 2.0, 3.0, 4.0], dtype=np.float32) # x — входные данные, типа: \"вот такие у нас условия\" дали тип float32\n",
    "y = np.array([-1.0, 1.0, 3.0, 5.0, 7.0], dtype=np.float32) # y — правильные ответы, что должно получиться дали тип float32\n",
    "\n",
    "# 2. Создание модели\n",
    "model = tf.keras.Sequential([\n",
    "    tf.keras.layers.Dense(units=1, input_shape=[1])  # layers.Dense это слои(фильтр для данных через что должны пройти данные) \n",
    "])                                                   # units=1, input_shape=[1] = 1 нейрон, 1 вход\n",
    "\n",
    "# 3. Компиляция модели (настройка обучения)\n",
    "model.compile(optimizer='sgd', loss='mean_squared_error') # compile — это как \"собрать модель перед запуском\"\n",
    "                                                          # optimizer='sgd' — метод обучения (SGD = градиентный спуск)\n",
    "                                                          # loss='mean_squared_error' — ошибка, которую сеть будет пытаться уменьшить\n",
    "                                                        \n",
    "model.fit(x, y, epochs=500, verbose=0)  # epochs=500 — повторить обучение 500 раз (это много — чтобы хорошо выучилось)\n",
    "                                        # verbose=0 — не показывать прогресс (можно поставить 1, если хочешь видеть)\n",
    "\n",
    "# 5. Предсказание\n",
    "print(\"Предсказание для x = 10:\", model.predict(np.array([12.0])))\n",
    "\n",
    "weights = model.layers[0].get_weights() # Нужно чтобы увидеть результат того что поняла нейросеть\n",
    "print(\"Вес (w):\", weights[0])\n",
    "print(\"Смещение (b):\", weights[1])"
   ]
  },
  {
   "cell_type": "code",
   "execution_count": 15,
   "id": "72b42f88-77d0-4d24-b1a9-a6e4b6853352",
   "metadata": {},
   "outputs": [
    {
     "name": "stdout",
     "output_type": "stream",
     "text": [
      "\u001b[1m1/1\u001b[0m \u001b[32m━━━━━━━━━━━━━━━━━━━━\u001b[0m\u001b[37m\u001b[0m \u001b[1m0s\u001b[0m 19ms/step\n",
      "Предсказания для X [[19.198992]]\n",
      "\n",
      "Слои 1:\n",
      "Вес: [[ 0.10862718  1.1405591   1.0600415  -0.6904518  -0.56925845 -0.2383979\n",
      "   0.31304297 -0.10722005 -0.0122007  -0.0791139 ]]\n",
      "Смещение [-0.04194933 -0.14638886 -0.12112035  0.          0.          0.\n",
      " -0.04364608  0.         -0.04310628  0.        ]\n",
      "\n",
      "Слои 2:\n",
      "Вес: [[-0.30465084]\n",
      " [ 1.0490621 ]\n",
      " [ 0.8216023 ]\n",
      " [-0.717082  ]\n",
      " [ 0.3314578 ]\n",
      " [ 0.42508548]\n",
      " [-0.01879931]\n",
      " [ 0.57333106]\n",
      " [-0.5588306 ]\n",
      " [ 0.41918153]]\n",
      "Смещение [-0.84624165]\n"
     ]
    }
   ],
   "source": [
    "x = np.array([0.0, 1.0, 2.0, 3.0, 4.0], dtype=np.float32)\n",
    "y = np.array([-1.0, 1.0, 3.0, 5.0, 7.0], dtype=np.float32) \n",
    "\n",
    "model = tf.keras.Sequential([\n",
    "    tf.keras.layers.Dense(units = 10,activation=\"relu\",input_shape = [1]), # есть 3 самых популярных активаций relu,sigmoid,tanh\n",
    "    tf.keras.layers.Dense(units = 1)\n",
    "])\n",
    "\n",
    "model.compile(optimizer=\"sgd\",loss = \"mean_squared_error\")\n",
    "\n",
    "model.fit(x,y,epochs=500,verbose=0)\n",
    "\n",
    "print(\"Предсказания для X\",model.predict(np.array([10.0])))\n",
    "\n",
    "for i,layers in enumerate(model.layers):\n",
    "    weights = layers.get_weights()\n",
    "    print(f\"\\nСлои {i+1}:\")\n",
    "    print(\"Вес:\",weights[0])\n",
    "    print(\"Смещение\",weights[1])"
   ]
  },
  {
   "cell_type": "code",
   "execution_count": 16,
   "id": "664202f5-3ad1-484a-ab33-655a72335e49",
   "metadata": {},
   "outputs": [
    {
     "name": "stdout",
     "output_type": "stream",
     "text": [
      "\u001b[1m1/1\u001b[0m \u001b[32m━━━━━━━━━━━━━━━━━━━━\u001b[0m\u001b[37m\u001b[0m \u001b[1m0s\u001b[0m 21ms/step\n",
      "Предсказание [[0.5607758 ]\n",
      " [0.6409775 ]\n",
      " [0.72749823]]\n"
     ]
    }
   ],
   "source": [
    "x = np.array([20, 25, 30, 35, 40, 45], dtype=np.float32)  # возраст\n",
    "y = np.array([0, 0, 0, 1, 1, 1], dtype=np.float32)  # результат болен или не болен\n",
    "\n",
    "model = tf.keras.Sequential([\n",
    "    tf.keras.layers.Dense(units = 5,activation=\"relu\",input_shape = [1]),\n",
    "    tf.keras.layers.Dense(units = 1,activation = \"sigmoid\",input_shape = [1])\n",
    "])\n",
    "\n",
    "model.compile(optimizer=\"adam\",loss = \"binary_crossentropy\",metrics=[\"accuracy\"])\n",
    "\n",
    "model.fit(x,y,epochs=500,verbose=0)\n",
    "\n",
    "pred = model.predict(np.array([28, 38, 50]))\n",
    "\n",
    "print(\"Предсказание\",pred)"
   ]
  },
  {
   "cell_type": "code",
   "execution_count": 17,
   "id": "4f39bccb-0d12-4e4f-9a2d-1817b2d88c59",
   "metadata": {},
   "outputs": [
    {
     "name": "stdout",
     "output_type": "stream",
     "text": [
      "\u001b[1m1/1\u001b[0m \u001b[32m━━━━━━━━━━━━━━━━━━━━\u001b[0m\u001b[37m\u001b[0m \u001b[1m0s\u001b[0m 23ms/step\n",
      "Предсказание\n",
      " [[0.937552  ]\n",
      " [0.02603118]\n",
      " [0.47961092]\n",
      " [0.98626256]]\n",
      "0 или 1:\n",
      " [[1]\n",
      " [0]\n",
      " [0]\n",
      " [1]]\n"
     ]
    }
   ],
   "source": [
    "texts = [\"Очень хорошо\", \"Прекрасно\", \"Ненавижу это\", \"Отвратительно\", \"Круто\", \"Это плохо\",\"Ужасно\"]\n",
    "labels = [1, 1, 0, 0, 1, 0,0]\n",
    "\n",
    "tokenizer = Tokenizer()\n",
    "tokenizer.fit_on_texts(texts)                                     # fit_on_texts(...) — создает словарь: ?\n",
    "sequences = tokenizer.texts_to_sequences(texts)                   # texts_to_sequences(...) — превращает фразы в списки чисел\n",
    "\n",
    "x = pad_sequences(sequences)                                      # pad_sequences удленняет список если \n",
    "y = np.array(labels)                                              #например слово очень ххорошо и прекрасно то будет [1,5],[0,5]\n",
    "\n",
    "\n",
    "model = tf.keras.Sequential([\n",
    "    tf.keras.layers.Embedding(input_dim=100,output_dim=8),        # Превращает число-слово в вектор (смысл)\n",
    "    tf.keras.layers.Flatten(),                                    # Делает все в 1 строку, чтобы можно было подать дальше\n",
    "    tf.keras.layers.Dense(1,activation=\"sigmoid\")                 # Один нейрон с sigmoid: выдает вероятность, что это хороший отзыв\n",
    "])\n",
    "\n",
    "model.compile(optimizer=\"adam\",loss = \"binary_crossentropy\",metrics=[\"accuracy\"])\n",
    "model.fit(x,y,epochs=500,verbose=0)\n",
    "\n",
    "new_texts = [\"Прекрасно\", \"Это плохо\", \"Просто ужас\", \"Очень круто\"]\n",
    "new_seq = tokenizer.texts_to_sequences(new_texts)\n",
    "new_pad = pad_sequences(new_seq,maxlen=x.shape[1])                 #превращает новые фразы в одинаково длинные списки чисел \n",
    "pred = model.predict(new_pad)                                      #чтобы их можно было отправить в модель без ошибки.\n",
    "\n",
    "print(\"Предсказание\\n\",pred)\n",
    "print(\"0 или 1:\\n\",(pred>0.5).astype(int))                        # (pred > 0.5).astype(int) → превращаем в чёткие 0 или 1"
   ]
  },
  {
   "cell_type": "markdown",
   "id": "5d7a5873-650d-4f01-9419-dbecfa7348f5",
   "metadata": {},
   "source": [
    "# Земтка \n",
    "## 🔥 Часть 2: LSTM + Dropout\n",
    "\n",
    "Что такое LSTM?\n",
    "Это слой, который помнит порядок слов\n",
    "\n",
    "\"Очень плохо\" ≠ \"Плохо очень\" — для Dense одинаково, а для LSTM — разный смысл."
   ]
  },
  {
   "cell_type": "code",
   "execution_count": 128,
   "id": "d0a13b37-360a-4199-9cf4-1533286ac77e",
   "metadata": {},
   "outputs": [
    {
     "name": "stdout",
     "output_type": "stream",
     "text": [
      "\u001b[1m1/1\u001b[0m \u001b[32m━━━━━━━━━━━━━━━━━━━━\u001b[0m\u001b[37m\u001b[0m \u001b[1m0s\u001b[0m 55ms/step\n",
      "Предсказание:\n",
      " [[0.74460554]\n",
      " [0.00978292]\n",
      " [0.52120346]\n",
      " [0.82811093]\n",
      " [0.4476014 ]]\n",
      "0 или 1:\n",
      " [[1]\n",
      " [0]\n",
      " [1]\n",
      " [1]\n",
      " [0]]\n"
     ]
    }
   ],
   "source": [
    "texts1= [\"Очень хорошо\", \"Прекрасно\", \"Ненавижу это\", \"Отвратительно\", \"Круто\", \"Это плохо\", \"Ужасно\"]\n",
    "labels1= [1, 1, 0, 0, 1, 0, 0]\n",
    "\n",
    "tokenizer = Tokenizer() \n",
    "tokenizer.fit_on_texts(texts1)                     # создаем словарь\n",
    "sequences = tokenizer.texts_to_sequences(texts1)   # токенизируем слова\n",
    "\n",
    "x = pad_sequences(sequences)                       # Удленяем токенезированные слова из входных данных x\n",
    "y = np.array(labels1)                              # Создаем массив из выходных данных y\n",
    "\n",
    "model = tf.keras.Sequential([\n",
    "    tf.keras.layers.Embedding(input_dim=100, output_dim=8), # Превращает число-слово в вектор\n",
    "    tf.keras.layers.LSTM(16),                      # LSTM — чувствует порядок слов \"понимает контекст”\n",
    "    tf.keras.layers.Dropout(0.2),                  # Dropout — выключает 20% нейронов для устойчивости \n",
    "                                                   # делает модель устойчивее (не переучивается\n",
    "    tf.keras.layers.Dense(1, activation='sigmoid')\n",
    "])\n",
    "\n",
    "model.compile(optimizer=\"adam\",loss = \"binary_crossentropy\",metrics=[\"accuracy\"]) # собираем модель\n",
    "model.fit(x, y, epochs=200, verbose=0) # обучаем модель \n",
    "\n",
    "new_text = [\"Прекрасно\", \"Это плохо\", \"Очень ужасно\", \"Не очень хорошо\", \"Ничего\"]\n",
    "new_seq = tokenizer.texts_to_sequences(new_text)\n",
    "new_pad = pad_sequences(new_seq,maxlen=x.shape[1])\n",
    "pred = model.predict(new_pad)\n",
    "\n",
    "print(\"Предсказание:\\n\",pred)\n",
    "print(\"0 или 1:\\n\",(pred > 0.5).astype(int))"
   ]
  },
  {
   "cell_type": "code",
   "execution_count": 172,
   "id": "783e03d1-c1ec-4b0e-ad20-5c059b516f7c",
   "metadata": {},
   "outputs": [],
   "source": [
    "# 🧪 Загружаем датасет диабета\n",
    "data = load_breast_cancer()\n",
    "X = data.data\n",
    "Y = data.target"
   ]
  },
  {
   "cell_type": "code",
   "execution_count": 174,
   "id": "c99a4246-1f26-4517-b3c6-45a4af5916ee",
   "metadata": {},
   "outputs": [],
   "source": [
    "X_train,X_test,Y_train,Y_test = train_test_split(\n",
    "    X,Y,test_size=0.2,random_state = 0\n",
    ")"
   ]
  },
  {
   "cell_type": "code",
   "execution_count": 176,
   "id": "d3a695b0-8c51-4a8d-83d8-61cab80611e3",
   "metadata": {},
   "outputs": [],
   "source": [
    "Scaler = StandardScaler()\n",
    "X_train = Scaler.fit_transform(X_train)\n",
    "X_test = Scaler.transform(X_test)"
   ]
  },
  {
   "cell_type": "code",
   "execution_count": 214,
   "id": "d27fff0a-6561-4470-a15f-3f3607be4a27",
   "metadata": {},
   "outputs": [],
   "source": [
    "model = tf.keras.Sequential([\n",
    "    tf.keras.layers.Dense(64,activation=\"relu\",input_shape = (X.shape[1],)),\n",
    "    tf.keras.layers.Dense(32,activation=\"relu\"),\n",
    "    tf.keras.layers.Dropout(0.4),\n",
    "    tf.keras.layers.Dense(1,activation=\"sigmoid\"),\n",
    "])"
   ]
  },
  {
   "cell_type": "code",
   "execution_count": 224,
   "id": "d539c5e0-9010-467e-95e3-162be306c217",
   "metadata": {},
   "outputs": [],
   "source": [
    "model.compile(optimizer=\"adam\",loss = \"binary_crossentropy\",metrics=[\"accuracy\"])"
   ]
  },
  {
   "cell_type": "code",
   "execution_count": 226,
   "id": "4a349fd8-69e3-4f7b-a4d1-e2004c44250e",
   "metadata": {},
   "outputs": [],
   "source": [
    "history = model.fit(X_train,Y_train, epochs=50,batch_size=16,validation_data=(X_test,Y_test),verbose=0)"
   ]
  },
  {
   "cell_type": "code",
   "execution_count": 227,
   "id": "c83c1c17-f315-43a1-a2d0-fa2d3022443a",
   "metadata": {},
   "outputs": [
    {
     "data": {
      "image/png": "[encoded data removed]",
      "text/plain": [
       "<Figure size 640x480 with 1 Axes>"
      ]
     },
     "metadata": {},
     "output_type": "display_data"
    }
   ],
   "source": [
    "plt.plot(history.history['loss'], label='Train Loss')\n",
    "plt.plot(history.history['val_loss'], label='Val Loss')\n",
    "plt.plot(history.history['accuracy'], label='Train Acc')\n",
    "plt.plot(history.history['val_accuracy'], label='Val Acc')\n",
    "plt.title(\"Ошибка обучения vs валидации\")\n",
    "plt.xlabel(\"Эпоха\")\n",
    "plt.ylabel(\"Loss\")\n",
    "plt.legend()\n",
    "plt.grid()\n",
    "plt.show()\n"
   ]
  },
  {
   "cell_type": "code",
   "execution_count": null,
   "id": "e303b89a-9250-42cc-9fa3-391351dd5971",
   "metadata": {},
   "outputs": [],
   "source": []
  }
 ],
 "metadata": {
  "kernelspec": {
   "display_name": "tf-env",
   "language": "python",
   "name": "tf-env"
  },
  "language_info": {
   "codemirror_mode": {
    "name": "ipython",
    "version": 3
   },
   "file_extension": ".py",
   "mimetype": "text/x-python",
   "name": "python",
   "nbconvert_exporter": "python",
   "pygments_lexer": "ipython3",
   "version": "3.12.7"
  }
 },
 "nbformat": 4,
 "nbformat_minor": 5
}
