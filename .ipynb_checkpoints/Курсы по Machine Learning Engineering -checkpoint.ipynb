{
 "cells": [
  {
   "cell_type": "markdown",
   "id": "6417853b-97b7-4a57-80eb-6149422b7c18",
   "metadata": {},
   "source": [
    "# Алгоритмы машинного обучения\n",
    "## Два основных типа машинного обучения — это  Контролируемое обучение(обучение с учителем), Неконтролируемое обучение(обучение без учителя) и Система рекомендаций"
   ]
  },
  {
   "cell_type": "code",
   "execution_count": null,
   "id": "7f18307b-7bf7-44bc-bd60-04a2cfa50308",
   "metadata": {},
   "outputs": [],
   "source": []
  },
  {
   "cell_type": "markdown",
   "id": "fbfdc4a1-ce33-4a01-90a5-270845ee4269",
   "metadata": {},
   "source": [
    "# Контролируемое обучение (Обучение с учителем)\n",
    "## Важно понимать что в обучение с учителем модель учитывать входные данные X и тарегт Y, то есть мы даем модели пример правильного ответа в Y"
   ]
  }
 ],
 "metadata": {
  "kernelspec": {
   "display_name": "tf-env",
   "language": "python",
   "name": "tf-env"
  },
  "language_info": {
   "codemirror_mode": {
    "name": "ipython",
    "version": 3
   },
   "file_extension": ".py",
   "mimetype": "text/x-python",
   "name": "python",
   "nbconvert_exporter": "python",
   "pygments_lexer": "ipython3",
   "version": "3.12.7"
  }
 },
 "nbformat": 4,
 "nbformat_minor": 5
}
