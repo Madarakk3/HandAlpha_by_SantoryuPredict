{
 "cells": [
  {
   "cell_type": "code",
   "execution_count": 5,
   "id": "f6e6c2e2-2033-4c0b-ad9a-81824cad18c9",
   "metadata": {},
   "outputs": [],
   "source": [
    "import pandas as pd"
   ]
  },
  {
   "cell_type": "markdown",
   "id": "6417853b-97b7-4a57-80eb-6149422b7c18",
   "metadata": {},
   "source": [
    "# Алгоритмы машинного обучения\n",
    "## Два основных типа машинного обучения — это  Контролируемое обучение(обучение с учителем), Неконтролируемое обучение(обучение без учителя) и Система рекомендаций"
   ]
  },
  {
   "cell_type": "markdown",
   "id": "fbfdc4a1-ce33-4a01-90a5-270845ee4269",
   "metadata": {},
   "source": [
    "# Раздел 1. Контролируемое обучение (Обучение с учителем)\n",
    "## Важно понимать что в обучение с учителем модель учитывать входные данные X и тарегт Y, то есть мы даем модели пример правильного ответа в Y"
   ]
  },
  {
   "cell_type": "code",
   "execution_count": 73,
   "id": "7f18307b-7bf7-44bc-bd60-04a2cfa50308",
   "metadata": {},
   "outputs": [
    {
     "data": {
      "text/html": [
       "<div>\n",
       "<style scoped>\n",
       "    .dataframe tbody tr th:only-of-type {\n",
       "        vertical-align: middle;\n",
       "    }\n",
       "\n",
       "    .dataframe tbody tr th {\n",
       "        vertical-align: top;\n",
       "    }\n",
       "\n",
       "    .dataframe thead th {\n",
       "        text-align: right;\n",
       "    }\n",
       "</style>\n",
       "<table border=\"1\" class=\"dataframe\">\n",
       "  <thead>\n",
       "    <tr style=\"text-align: right;\">\n",
       "      <th></th>\n",
       "      <th>Input X</th>\n",
       "      <th>Input Y</th>\n",
       "      <th>Application</th>\n",
       "    </tr>\n",
       "  </thead>\n",
       "  <tbody>\n",
       "    <tr>\n",
       "      <th>0</th>\n",
       "      <td>Email</td>\n",
       "      <td>Spam 0/1</td>\n",
       "      <td>Спам фильтр</td>\n",
       "    </tr>\n",
       "    <tr>\n",
       "      <th>1</th>\n",
       "      <td>Audio</td>\n",
       "      <td>Text Transcription</td>\n",
       "      <td>Распознавание речи</td>\n",
       "    </tr>\n",
       "    <tr>\n",
       "      <th>2</th>\n",
       "      <td>English</td>\n",
       "      <td>Spanish Translate</td>\n",
       "      <td>Машинный перевод</td>\n",
       "    </tr>\n",
       "  </tbody>\n",
       "</table>\n",
       "</div>"
      ],
      "text/plain": [
       "   Input X             Input Y         Application\n",
       "0    Email            Spam 0/1         Спам фильтр\n",
       "1    Audio  Text Transcription  Распознавание речи\n",
       "2  English   Spanish Translate    Машинный перевод"
      ]
     },
     "execution_count": 73,
     "metadata": {},
     "output_type": "execute_result"
    }
   ],
   "source": [
    "df = pd.DataFrame.from_dict({\"Input X\":[\"Email\",\"Audio\",\"English\"],\"Input Y\":[\"Spam 0/1\",\"Text Transcription\",\"Spanish Translate\"],\"Application\":[\"Спам фильтр\",\"Распознавание речи\",\"Машинный перевод\"]})\n",
    "df"
   ]
  },
  {
   "cell_type": "markdown",
   "id": "f11690af-2766-4d5c-90cd-9820dc97fc3c",
   "metadata": {},
   "source": [
    "# 1. Особый тип контролируемого обучения, который называется \n",
    "## Регрессией. Под регрессией я подразумеваю, что мы пытаемся предсказать число из бесконечного числа возможных чисел, таких как цены на жилье в нашем примере"
   ]
  },
  {
   "cell_type": "markdown",
   "id": "717699a1-f1d6-4331-8e26-5cfc947d29d5",
   "metadata": {},
   "source": [
    "# 2. Классификация \n",
    "## Но что отличает классификацию от регрессии при интерпретации чисел, так это то, что классификация предсказывает небольшой конечный ограниченный набор возможных категорий выходных данных, таких как 0, 1 и 2, но не все возможные числа в диапазоне от 0,5 до 1,7. "
   ]
  },
  {
   "cell_type": "markdown",
   "id": "aa828cb9-1551-4d29-8f43-bd34a20ce466",
   "metadata": {},
   "source": [
    "# Заметка\n",
    "class и category это одно и тоже то есть выходные(X) данные можно навзать классом или категорией так и наоборот"
   ]
  },
  {
   "cell_type": "markdown",
   "id": "a6056e9e-57a1-4bb1-9c5a-e7f386417b89",
   "metadata": {},
   "source": [
    "# Итог\n",
    "## Два основных типа контролируемого обучения — это регрессия и классификация. \n",
    "### В таких регрессионных приложениях, как прогнозирование цен на жилье, алгоритм обучения должен предсказывать числа на основе бесконечно большого количества возможных выходных чисел. \n",
    "### В то время как при классификации алгоритм обучения должен предсказывать категорию/ класс, используя при этом небольшой набор возможных выходных данных"
   ]
  },
  {
   "cell_type": "markdown",
   "id": "777851b2-0127-4e11-a033-440266d670a0",
   "metadata": {},
   "source": [
    "# Раздел 2. Неконтролируемое обучение(обучение без учителя)"
   ]
  }
 ],
 "metadata": {
  "kernelspec": {
   "display_name": "tf-env",
   "language": "python",
   "name": "tf-env"
  },
  "language_info": {
   "codemirror_mode": {
    "name": "ipython",
    "version": 3
   },
   "file_extension": ".py",
   "mimetype": "text/x-python",
   "name": "python",
   "nbconvert_exporter": "python",
   "pygments_lexer": "ipython3",
   "version": "3.12.7"
  }
 },
 "nbformat": 4,
 "nbformat_minor": 5
}
