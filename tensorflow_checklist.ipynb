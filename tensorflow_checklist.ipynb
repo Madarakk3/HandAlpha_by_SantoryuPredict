{
 "cells": [
  {
   "cell_type": "markdown",
   "metadata": {},
   "source": [
    "# ✅ Чек-лист TensorFlow: от нуля до джуна\n",
    "---\n",
    "## 📅 **Неделя 1 — БАЗА TensorFlow и регрессия**\n",
    "- [ ] Установить TensorFlow и Jupyter✅\n",
    "- [ ] Понять разницу: `tf.constant` vs `tf.Variable`✅\n",
    "- [ ] Поиграться с `x = tf.Variable(5.0)`, `GradientTape`, `assign_sub`✅\n",
    "- [ ] Реализовать градиентный спуск руками (`x² → минимум`)✅\n",
    "- [ ] Построить модель через `Sequential` с 1 `Dense` слоем✅\n",
    "- [ ] Обучить модель угадывать `y = 2x - 1`✅\n",
    "- [ ] Посмотреть `.get_weights()` и понять `w`, `b`✅❌\n",
    "- [ ] Добавить ещё один слой `Dense(10)`✅\n",
    "- [ ] Протестировать `relu`, `tanh`, `None`✅\n",
    "- [ ] Сделать `predict([10.0])` и интерпретировать результат✅\n",
    "\n",
    "## 📅 **Неделя 2 — Классификация**\n",
    "- [ ] Построить бинарную модель: `возраст → болен/не болен`✅\n",
    "- [ ] Использовать `sigmoid`, `binary_crossentropy`, `accuracy`✅❌\n",
    "- [ ] Посчитать `(pred > 0.5).astype(int)`❌\n",
    "- [ ] Визуализировать `loss` по эпохам (график)❌\n",
    "- [ ] Обучить модель с 3+ классами (`fashion_mnist`)❌\n",
    "- [ ] Использовать `softmax`, `categorical_crossentropy`❌\n",
    "- [ ] Использовать `argmax` для предсказаний❌\n",
    "- [ ] Разделить `train/test`, посчитать `accuracy` отдельно❌\n",
    "- [ ] Построить confusion matrix❌\n",
    "- [ ] Сделать классификацию по 2 признакам (например: возраст + давление)❌\n",
    "\n",
    "## 📅 **Неделя 3 — NLP (обработка текста)**\n",
    "- [ ] Использовать `Tokenizer` и `texts_to_sequences()`❌\n",
    "- [ ] Применить `pad_sequences`❌\n",
    "- [ ] Построить модель с `Embedding → Flatten → Dense`❌\n",
    "- [ ] Обучить на 6–10 текстах (позитив / негатив)❌\n",
    "- [ ] Проверить предсказания на новых фразах❌\n",
    "- [ ] Перевести `pred > 0.5 → 1/0`❌\n",
    "- [ ] Визуализировать веса слоёв❌\n",
    "- [ ] Добавить больше примеров, сравнить точность❌\n",
    "- [ ] Добавить `Dropout` (регуляризация)❌\n",
    "\n",
    "## 📅 **Неделя 4 — Картинки + повторение**\n",
    "- [ ] Скачать `mnist` через `tf.keras.datasets.mnist`❌\n",
    "- [ ] Обучить простую сеть (`Flatten → Dense`)❌\n",
    "- [ ] Обучить `CNN`: `Conv2D → MaxPool → Flatten → Dense`❌\n",
    "- [ ] Сравнить точность простой и сверточной модели❌\n",
    "- [ ] Визуализировать предсказания: `imshow + pred`❌\n",
    "- [ ] Повторить Week 1-3 задачи❌\n",
    "- [ ] Устроить себе мини-проверку: написать с нуля❌\n",
    "- [ ] Понять `model.save()` и `model.load_model()`❌\n",
    "\n",
    "## 🏁 Бонус: самооценка\n",
    "- [ ] Объясняю разницу `sigmoid`, `relu`, `softmax`\n",
    "- [ ] Понимаю `GradientTape`\n",
    "- [ ] Знаю, когда `binary_crossentropy` vs `categorical_crossentropy`\n",
    "- [ ] Могу обучить модель на своих данных\n"
   ]
  },
  {
   "cell_type": "code",
   "execution_count": null,
   "metadata": {},
   "outputs": [],
   "source": []
  }
 ],
 "metadata": {
  "kernelspec": {
   "display_name": "tf-env",
   "language": "python",
   "name": "tf-env"
  },
  "language_info": {
   "codemirror_mode": {
    "name": "ipython",
    "version": 3
   },
   "file_extension": ".py",
   "mimetype": "text/x-python",
   "name": "python",
   "nbconvert_exporter": "python",
   "pygments_lexer": "ipython3",
   "version": "3.12.7"
  }
 },
 "nbformat": 4,
 "nbformat_minor": 4
}
