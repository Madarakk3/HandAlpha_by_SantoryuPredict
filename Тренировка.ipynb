{
 "cells": [
  {
   "cell_type": "code",
   "execution_count": 14,
   "id": "6b293d16-1040-4e56-9984-eaee7b207f92",
   "metadata": {},
   "outputs": [],
   "source": [
    "import numpy as np\n",
    "import pandas as pd\n",
    "import matplotlib.pyplot as plt\n",
    "import seaborn as sns\n",
    "from sklearn.model_selection import train_test_split\n",
    "from sklearn.utils import shuffle\n",
    "import keras , os , tqdm , cv2\n",
    "from keras.models import Sequential\n",
    "from keras.layers import Dense , Conv2D , MaxPooling2D , BatchNormalization , Dropout , Flatten\n",
    "from keras.utils import to_categorical\n",
    "from tensorflow.keras.preprocessing.image import ImageDataGenerator\n",
    "from tensorflow.keras.preprocessing import image\n",
    "from tensorflow.keras.models import load_model\n",
    "from tensorflow.keras import layers"
   ]
  },
  {
   "cell_type": "code",
   "execution_count": 16,
   "id": "848111a5-19bd-4a3c-bff2-826f302d5850",
   "metadata": {},
   "outputs": [
    {
     "name": "stdout",
     "output_type": "stream",
     "text": [
      "Рабочая директория теперь: /Users/elmansulejmanov/Desktop/Задача №1 Сортировка токсичных комментариев\n",
      "Содержимое: ['housing.csv', 'tensorflow_checklist.ipynb', 'Мой первый портфолио проект accuracy-99.ipynb', 'adult.csv', 'all_letters_info.csv', 'gym_churn.csv', 'Mall_Customers.csv', '.DS_Store', 'images.jpeg', 'y_true.npy', '3 Задачи matplotlib.ipynb', 'StudentsPerformance.csv', 'labeled.csv', 'Курсы по Machine Learning Engineering .ipynb', 'test.csv', '1 Pandas.ipynb', 'heart.csv', 'submission_blend3_weighted_047.csv', 'test.json', 'asl_alphabet_test', 'Telegram bot.ipynb', 'Задача Kaggle #2', 'Задача2.ipynb', 'Тренировка.ipynb', '2 matlplotlib.ipynb', 'tmp.csv', 'train.json', '4 Машинное обучение sklearn.ipynb', 'app.py', 'train.csv', '.ipynb_checkpoints', 'asl_alphabet_train', 'ЗАДАЧА1.ipynb', '6 Создание нейросетей TenserFlow.ipynb', 'asl_model.h5', 'Тренировка №1.ipynb', 'sosi.ipynb', 'test.ipynb', 'submission_catboost1.csv', 'Задача 1 Kaggle Score 0.80617.ipynb', 'catboost_info', 'sample_submission.csv', '5 Задачи Sklearn.ipynb', 'y_pred.npy']\n"
     ]
    }
   ],
   "source": [
    "import os\n",
    "\n",
    "# Устанавливаем рабочую директорию туда, где лежат данные\n",
    "os.chdir(\"/Users/elmansulejmanov/Desktop/Задача №1 Сортировка токсичных комментариев\")\n",
    "print(\"Рабочая директория теперь:\", os.getcwd())\n",
    "print(\"Содержимое:\", os.listdir())"
   ]
  },
  {
   "cell_type": "code",
   "execution_count": 18,
   "id": "0d8a04f9-4c63-495a-bb7b-a313e02b09e1",
   "metadata": {},
   "outputs": [],
   "source": [
    "trainDir = 'asl_alphabet_train/asl_alphabet_train/'\n",
    "testDir = 'asl_alphabet_test/asl_alphabet_test'"
   ]
  },
  {
   "cell_type": "code",
   "execution_count": 22,
   "id": "8d9ac8e5-2508-439e-bd67-5ea4b8f4468b",
   "metadata": {},
   "outputs": [
    {
     "ename": "NameError",
     "evalue": "name 'classes' is not defined",
     "output_type": "error",
     "traceback": [
      "\u001b[0;31m---------------------------------------------------------------------------\u001b[0m",
      "\u001b[0;31mNameError\u001b[0m                                 Traceback (most recent call last)",
      "Cell \u001b[0;32mIn[22], line 5\u001b[0m\n\u001b[1;32m      3\u001b[0m     image_list \u001b[38;5;241m=\u001b[39m [],\n\u001b[1;32m      4\u001b[0m     labels \u001b[38;5;241m=\u001b[39m []\n\u001b[0;32m----> 5\u001b[0m \u001b[38;5;28;01mfor\u001b[39;00m clas \u001b[38;5;129;01min\u001b[39;00m tqdm\u001b[38;5;241m.\u001b[39mtqdm(\u001b[43mclasses\u001b[49m):\n\u001b[1;32m      6\u001b[0m     classesPath \u001b[38;5;241m=\u001b[39m os\u001b[38;5;241m.\u001b[39mpath\u001b[38;5;241m.\u001b[39mjoin(trainDir,clas)\n",
      "\u001b[0;31mNameError\u001b[0m: name 'classes' is not defined"
     ]
    }
   ],
   "source": [
    "def LoadTrainData(trainDir,imageWidth, ImageHight):\n",
    "    classes = os.listdir(trainDir),\n",
    "    image_list = [],\n",
    "    labels = []\n",
    "for clas in tqdm.tqdm(classes):\n",
    "    classesPath = os.path.join(trainDir,clas)\n"
   ]
  },
  {
   "cell_type": "code",
   "execution_count": null,
   "id": "435789e9-88ca-4a37-8447-849b36d35700",
   "metadata": {},
   "outputs": [],
   "source": []
  }
 ],
 "metadata": {
  "kernelspec": {
   "display_name": "Python (tf_new)",
   "language": "python",
   "name": "tf_new"
  },
  "language_info": {
   "codemirror_mode": {
    "name": "ipython",
    "version": 3
   },
   "file_extension": ".py",
   "mimetype": "text/x-python",
   "name": "python",
   "nbconvert_exporter": "python",
   "pygments_lexer": "ipython3",
   "version": "3.10.8"
  }
 },
 "nbformat": 4,
 "nbformat_minor": 5
}
